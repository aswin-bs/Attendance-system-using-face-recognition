{
 "cells": [
  {
   "cell_type": "code",
   "execution_count": 1,
   "id": "d8317903",
   "metadata": {},
   "outputs": [],
   "source": [
    "import cv2\n",
    "import numpy as np\n",
    "import face_recognition\n"
   ]
  },
  {
   "cell_type": "code",
   "execution_count": 2,
   "id": "334e2700",
   "metadata": {},
   "outputs": [],
   "source": [
    "imgelon_bgr = face_recognition.load_image_file('elon.jpg')\n",
    "imgelon_rgb = cv2.cvtColor(imgelon_bgr,cv2.COLOR_BGR2RGB)\n",
    "cv2.imshow('bgr', imgelon_bgr)\n",
    "#cv2.imshow('rgb', imgelon_rgb)\n",
    "cv2.waitKey(0)\n",
    "cv2.destroyAllWindows()\n"
   ]
  },
  {
   "cell_type": "code",
   "execution_count": 3,
   "id": "3013b930",
   "metadata": {},
   "outputs": [],
   "source": [
    "imgelon =face_recognition.load_image_file('elon.jpg')\n",
    "imgelon = cv2.cvtColor(imgelon,cv2.COLOR_BGR2RGB)\n",
    "#----------Finding face Location for drawing bounding boxes-------\n",
    "face = face_recognition.face_locations(imgelon_rgb)[0]\n",
    "copy = imgelon.copy()\n",
    "#-------------------Drawing the Rectangle-------------------------\n",
    "\n",
    "cv2.rectangle(copy, (face[3], face[0]),(face[1], face[2]), (255,0,255), 2)\n",
    "cv2.imshow('copy', copy)\n",
    "cv2.waitKey(0)\n",
    "cv2.destroyAllWindows()\n",
    "\n"
   ]
  },
  {
   "cell_type": "code",
   "execution_count": 4,
   "id": "c4c22a76",
   "metadata": {},
   "outputs": [],
   "source": [
    "train_encode = face_recognition.face_encodings(imgelon)[0]\n"
   ]
  },
  {
   "cell_type": "code",
   "execution_count": 5,
   "id": "7cb2550b",
   "metadata": {},
   "outputs": [
    {
     "name": "stdout",
     "output_type": "stream",
     "text": [
      "[True]\n"
     ]
    }
   ],
   "source": [
    "# lets test an image\n",
    "test = face_recognition.load_image_file('elon_2.jpg')\n",
    "test = cv2.cvtColor(test, cv2.COLOR_BGR2RGB)\n",
    "test_encode = face_recognition.face_encodings(test)[0]\n",
    "print(face_recognition.compare_faces([train_encode],test_encode))"
   ]
  },
  {
   "cell_type": "markdown",
   "id": "6f3ae6a5",
   "metadata": {},
   "source": [
    "#  Building a Face Recognition System"
   ]
  },
  {
   "cell_type": "code",
   "execution_count": 6,
   "id": "3809b785",
   "metadata": {},
   "outputs": [],
   "source": [
    "import cv2\n",
    "import face_recognition\n",
    "import os\n",
    "import numpy as np\n",
    "from datetime import datetime\n",
    "import pickle"
   ]
  },
  {
   "cell_type": "code",
   "execution_count": 7,
   "id": "559f02ad",
   "metadata": {},
   "outputs": [],
   "source": [
    "path = 'student_images'\n"
   ]
  },
  {
   "cell_type": "code",
   "execution_count": 9,
   "id": "f8a87372",
   "metadata": {},
   "outputs": [],
   "source": [
    "'''images = []\n",
    "classNames = []mylist = os.listdir(path)\n",
    "for cl in mylist:\n",
    "    curImg = cv2.imread(f'{path}/{cl}')\n",
    "    images.append(curImg)\n",
    "    classNames.append(os.path.splitext(cl)[0])'''\n",
    "images = []\n",
    "classNames = []\n",
    "mylist = os.listdir(path)\n",
    "for cl in mylist:\n",
    "    curImg = cv2.imread(f'{path}/{cl}')\n",
    "    images.append(curImg)\n",
    "    classNames.append(os.path.splitext(cl)[0])\n"
   ]
  },
  {
   "cell_type": "code",
   "execution_count": 10,
   "id": "3fe7cf10",
   "metadata": {},
   "outputs": [],
   "source": [
    "def findEncodings(images):\n",
    "    encodeList = []\n",
    "    for img in images:\n",
    "        img = cv2.cvtColor(img, cv2.COLOR_BGR2RGB)\n",
    "        encoded_face = face_recognition.face_encodings(img)[0]\n",
    "        encodeList.append(encoded_face)\n",
    "    return encodeList\n",
    "encoded_face_train = findEncodings(images)"
   ]
  },
  {
   "cell_type": "code",
   "execution_count": 11,
   "id": "092099e4",
   "metadata": {},
   "outputs": [],
   "source": [
    "def markAttendance(name):\n",
    "    with open('Attendance.csv','r+') as f:\n",
    "        myDataList = f.readlines()\n",
    "        nameList = []\n",
    "        for line in myDataList:\n",
    "            entry = line.split(',')\n",
    "            nameList.append(entry[0])\n",
    "        if name not in nameList:\n",
    "            now = datetime.now()\n",
    "            time = now.strftime('%I:%M:%S:%p')\n",
    "            date = now.strftime('%d-%B-%Y')\n",
    "            f.writelines(f' {name}, {time}, {date} \\n')"
   ]
  },
  {
   "cell_type": "code",
   "execution_count": 17,
   "id": "2a90b9d6",
   "metadata": {},
   "outputs": [],
   "source": [
    "\n",
    "\n",
    "\n",
    "cap = cv2.VideoCapture(0)  # Starting the webcam\n",
    "\n",
    "if not cap.isOpened():\n",
    "    print(\"Error: Camera could not be opened.\")\n",
    "else:\n",
    "    while True:\n",
    "        success, img = cap.read()\n",
    "        if not success:\n",
    "            print(\"Failed to grab frame\")\n",
    "            break  # Exit the loop if frames cannot be grabbed\n",
    "\n",
    "        imgS = cv2.resize(img, (0,0), None, 0.25, 0.25)\n",
    "        imgS = cv2.cvtColor(imgS, cv2.COLOR_BGR2RGB)\n",
    "\n",
    "        faces_in_frame = face_recognition.face_locations(imgS)\n",
    "        encoded_faces = face_recognition.face_encodings(imgS, faces_in_frame)\n",
    "\n",
    "        for encode_face, faceloc in zip(encoded_faces, faces_in_frame):\n",
    "            matches = face_recognition.compare_faces(encoded_face_train, encode_face)\n",
    "            faceDist = face_recognition.face_distance(encoded_face_train, encode_face)\n",
    "            matchIndex = np.argmin(faceDist)\n",
    "\n",
    "            if matches[matchIndex]:\n",
    "                name = classNames[matchIndex].upper().lower()\n",
    "                y1, x2, y2, x1 = faceloc\n",
    "                y1, x2, y2, x1 = y1*4, x2*4, y2*4, x1*4  # Scale back up to the original size\n",
    "                cv2.rectangle(img, (x1, y1), (x2, y2), (0, 255, 0), 2)\n",
    "                cv2.rectangle(img, (x1, y2 - 35), (x2, y2), (0, 255, 0), cv2.FILLED)\n",
    "                cv2.putText(img, name, (x1 + 6, y2 - 5), cv2.FONT_HERSHEY_COMPLEX, 1, (255, 255, 255), 2)\n",
    "                markAttendance(name)\n",
    "\n",
    "        cv2.imshow('Webcam', img)\n",
    "        if cv2.waitKey(1) & 0xFF == ord('q'):\n",
    "            break\n",
    "\n",
    "    # Release the VideoCapture object and close windows\n",
    "    cap.release()\n",
    "    cv2.destroyAllWindows()\n"
   ]
  },
  {
   "cell_type": "code",
   "execution_count": null,
   "id": "e3368691",
   "metadata": {},
   "outputs": [],
   "source": []
  },
  {
   "cell_type": "code",
   "execution_count": null,
   "id": "1be73b2d",
   "metadata": {},
   "outputs": [],
   "source": []
  }
 ],
 "metadata": {
  "kernelspec": {
   "display_name": "Python 3 (ipykernel)",
   "language": "python",
   "name": "python3"
  },
  "language_info": {
   "codemirror_mode": {
    "name": "ipython",
    "version": 3
   },
   "file_extension": ".py",
   "mimetype": "text/x-python",
   "name": "python",
   "nbconvert_exporter": "python",
   "pygments_lexer": "ipython3",
   "version": "3.9.12"
  }
 },
 "nbformat": 4,
 "nbformat_minor": 5
}
